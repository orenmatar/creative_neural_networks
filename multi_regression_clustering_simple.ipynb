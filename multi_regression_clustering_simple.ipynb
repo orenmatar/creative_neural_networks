{
 "cells": [
  {
   "cell_type": "code",
   "execution_count": 1,
   "metadata": {
    "scrolled": true,
    "tags": []
   },
   "outputs": [
    {
     "name": "stderr",
     "output_type": "stream",
     "text": [
      "/Users/orenmatar/.pyenv/versions/3.8.0/envs/forecasting_env/lib/python3.8/site-packages/pandas/compat/__init__.py:120: UserWarning: Could not import the lzma module. Your installed Python is incomplete. Attempting to use lzma compression will result in a RuntimeError.\n",
      "  warnings.warn(msg)\n"
     ]
    }
   ],
   "source": [
    "%matplotlib inline\n",
    "%reload_ext autoreload\n",
    "import os\n",
    "import pandas as pd\n",
    "import matplotlib.pyplot as plt\n",
    "import math\n",
    "import json\n",
    "import itertools\n",
    "import datetime\n",
    "import seaborn as sns\n",
    "from sklearn.linear_model import LogisticRegression, LinearRegression\n",
    "from sklearn.neural_network import MLPRegressor\n",
    "from sklearn.ensemble import RandomForestRegressor\n",
    "from sklearn.metrics import roc_auc_score\n",
    "from sklearn.metrics.pairwise import cosine_similarity\n",
    "import re\n",
    "import random\n",
    "import numpy as np\n",
    "import shutil\n",
    "from tqdm import tqdm_notebook as tq\n",
    "import time\n",
    "from collections import Counter, defaultdict\n",
    "from IPython.display import clear_output, display\n",
    "plt.rcParams['figure.figsize'] = [12, 8]\n",
    "flatten_list = lambda x: list(itertools.chain.from_iterable(x))"
   ]
  },
  {
   "cell_type": "code",
   "execution_count": 2,
   "metadata": {},
   "outputs": [],
   "source": [
    "import torch\n",
    "from torch.autograd import Variable\n",
    "import torch.nn as nn\n",
    "import torch.nn.functional as F\n",
    "import torch.optim as optim\n",
    "from torch.utils.data import Dataset\n",
    "from torch.utils.data import DataLoader"
   ]
  },
  {
   "cell_type": "code",
   "execution_count": 3,
   "metadata": {},
   "outputs": [],
   "source": [
    "to_var = lambda x: Variable(torch.from_numpy(np.array(x))).float()"
   ]
  },
  {
   "cell_type": "code",
   "execution_count": 4,
   "metadata": {},
   "outputs": [],
   "source": [
    "class MultipleRegression(nn.Module):\n",
    "    def __init__(self, num_regression, input_dim, selector_dim=None):\n",
    "        super(MultipleRegression, self).__init__()\n",
    "        if selector_dim is None:\n",
    "            selector_dim = input_dim\n",
    "        self.regressions = nn.Linear(input_dim, num_regression)\n",
    "        self.selector_regressions = nn.Linear(selector_dim, num_regression)\n",
    "        self.s = nn.Softmax(dim=1)\n",
    "\n",
    "    def forward(self, X, selector_X):\n",
    "        outputs = self.regressions(X)\n",
    "        selector = self.s(self.selector_regressions(selector_X))\n",
    "        res = (selector*outputs).sum(dim=1)\n",
    "        return selector, outputs, res\n",
    "    \n",
    "    def norm_data(self, X, selector_X=None, y=None):\n",
    "        X_norm = (X-self.x_mean)/self.x_std\n",
    "        y_norm=None\n",
    "        if y is not None:\n",
    "            y_norm = (y-self.y_mean)/self.y_std\n",
    "            \n",
    "        selector_X_norm=None\n",
    "        if selector_X is not None:\n",
    "            selector_X_norm = (selector_X-self.selector_X_mean)/self.selector_X_std\n",
    "        return X_norm, selector_X_norm, y_norm\n",
    "    \n",
    "    def fit(self, X, y, selector_X=None, num_epochs=1000, half_loss=0, max_loss=0):\n",
    "#         TODO: maybe add dataloader + batches\n",
    "        if selector_X is None:\n",
    "            selector_X = X\n",
    "        X = np.array(X)\n",
    "        y = np.array(y)\n",
    "        selector_X = np.array(selector_X)\n",
    "\n",
    "        networks_params = list(self.regressions.parameters())\n",
    "        self_params = list(self.parameters())\n",
    "        optimizer = optim.Adam(networks_params+self_params, 0.01)\n",
    "        loss_func = torch.nn.MSELoss()\n",
    "        selector_loss_f = nn.BCELoss()\n",
    "        \n",
    "        self.x_mean = X.mean(axis=0)\n",
    "        self.selector_X_mean = selector_X.mean(axis=0)\n",
    "        self.y_mean = y.mean()\n",
    "        self.x_std = X.std(axis=0)\n",
    "        self.selector_X_std = selector_X.std(axis=0)\n",
    "        self.y_std = y.std()\n",
    "        \n",
    "        X_norm, selector_X_norm, y_norm = self.norm_data(X, selector_X, y)\n",
    "        \n",
    "        X_t = to_var(X_norm)\n",
    "        y_t = to_var(y_norm)\n",
    "        s_X_t = to_var(selector_X_norm)\n",
    "\n",
    "        for i in range(num_epochs):\n",
    "            tot_loss = 0\n",
    "            selector, outputs, predictions = self(X_t, s_X_t)\n",
    "            optimizer.zero_grad()\n",
    "            prediction_loss = loss_func(predictions, y_t)\n",
    "            \n",
    "            selector_max = selector.max(dim=1)[0]\n",
    "            selector_max_loss = selector_loss_f(selector_max, torch.ones(len(selector_max)))\n",
    "            selector_half_loss = -((0.5 - selector)**2).mean()\n",
    "            \n",
    "            loss = prediction_loss + selector_half_loss*half_loss + selector_max_loss*max_loss\n",
    "            \n",
    "            loss.backward()\n",
    "            optimizer.step()\n",
    "            tot_loss += loss.item()\n",
    "            if i%200 == 0:\n",
    "                print(tot_loss)\n",
    "                \n",
    "    def predict(self, X, selector_X = None):\n",
    "        if selector_X is None:\n",
    "            selector_X = X\n",
    "        X = np.array(X)\n",
    "        selector_X = np.array(selector_X)\n",
    "        X_norm, selector_X_norm, _ = self.norm_data(X, selector_X)\n",
    "        \n",
    "        with torch.no_grad():\n",
    "            _, _, predictions = self.forward(to_var(X_norm), to_var(selector_X_norm))\n",
    "        predictions = (predictions*self.y_std) + self.y_mean\n",
    "        return predictions.numpy()\n",
    "    \n",
    "    def get_selector(self, selector_X):\n",
    "        selector_X = np.array(selector_X)\n",
    "        _, selector_X_norm, _ = self.norm_data(selector_X, selector_X)\n",
    "        with torch.no_grad():\n",
    "            selector = self.s(self.selector_regressions(to_var(selector_X_norm)))\n",
    "        return selector.numpy()\n",
    "    \n",
    "from scipy.stats import pearsonr\n",
    "\n",
    "def score(preds, actual):\n",
    "    return pearsonr(preds, actual)[0]**2\n",
    "#     return ((preds-actual)**2).mean()"
   ]
  },
  {
   "cell_type": "code",
   "execution_count": null,
   "metadata": {},
   "outputs": [],
   "source": []
  },
  {
   "cell_type": "markdown",
   "metadata": {},
   "source": [
    "# simple polynomial examle"
   ]
  },
  {
   "cell_type": "code",
   "execution_count": 5,
   "metadata": {},
   "outputs": [],
   "source": [
    "x_lin = np.linspace(-9, 7, 100)\n",
    "y_lin = (x_lin+7) * (x_lin-5) * (x_lin+4) * (x_lin)\n",
    "X_lin = x_lin.reshape(-1,1)"
   ]
  },
  {
   "cell_type": "code",
   "execution_count": 6,
   "metadata": {},
   "outputs": [],
   "source": [
    "idx = list(range(len(X_lin)))\n",
    "test_idx = np.random.choice(idx, 20)\n",
    "train_idex = [i for i in idx if i not in test_idx]\n",
    "X_lin_train = X_lin[train_idex]\n",
    "X_lin_test = X_lin[test_idx]\n",
    "y_lin_train = y_lin[train_idex]\n",
    "y_lin_test = y_lin[test_idx]"
   ]
  },
  {
   "cell_type": "code",
   "execution_count": 7,
   "metadata": {},
   "outputs": [
    {
     "data": {
      "text/plain": [
       "(0.8508940210839296, 0.8003046783778897)"
      ]
     },
     "execution_count": 7,
     "metadata": {},
     "output_type": "execute_result"
    }
   ],
   "source": [
    "rf = RandomForestRegressor(min_samples_leaf=5, max_depth=4)\n",
    "rf.fit(X_lin_train, y_lin_train)\n",
    "score(rf.predict(X_lin_train), y_lin_train), score(rf.predict(X_lin_test), y_lin_test)"
   ]
  },
  {
   "cell_type": "code",
   "execution_count": 8,
   "metadata": {},
   "outputs": [
    {
     "data": {
      "text/plain": [
       "(3.918467273910186e-05, 0.044245315182237746)"
      ]
     },
     "execution_count": 8,
     "metadata": {},
     "output_type": "execute_result"
    }
   ],
   "source": [
    "lr = LinearRegression()\n",
    "lr.fit(X_lin_train, y_lin_train)\n",
    "score(lr.predict(X_lin_train), y_lin_train), score(lr.predict(X_lin_test), y_lin_test)"
   ]
  },
  {
   "cell_type": "code",
   "execution_count": 9,
   "metadata": {},
   "outputs": [
    {
     "data": {
      "text/plain": [
       "(0.9994940804895194, 0.9997578635456317)"
      ]
     },
     "execution_count": 9,
     "metadata": {},
     "output_type": "execute_result"
    }
   ],
   "source": [
    "n_network = MLPRegressor(max_iter=20000, hidden_layer_sizes=(10, 10))\n",
    "n_network.fit(X_lin_train, y_lin_train)\n",
    "score(n_network.predict(X_lin_train), y_lin_train), score(n_network.predict(X_lin_test), y_lin_test)"
   ]
  },
  {
   "cell_type": "code",
   "execution_count": 12,
   "metadata": {},
   "outputs": [
    {
     "data": {
      "text/plain": [
       "<matplotlib.legend.Legend at 0x149a5fa00>"
      ]
     },
     "execution_count": 12,
     "metadata": {},
     "output_type": "execute_result"
    },
    {
     "data": {
      "image/png": "[encoded data removed]",
      "text/plain": [
       "<Figure size 864x576 with 1 Axes>"
      ]
     },
     "metadata": {
      "needs_background": "light"
     },
     "output_type": "display_data"
    }
   ],
   "source": [
    "plt.plot(x_lin, y_lin)\n",
    "plt.plot(x_lin, n_network.predict(X_lin), label='Neural network')\n",
    "plt.legend()"
   ]
  },
  {
   "cell_type": "code",
   "execution_count": 13,
   "metadata": {},
   "outputs": [
    {
     "data": {
      "text/plain": [
       "<matplotlib.legend.Legend at 0x149aabf40>"
      ]
     },
     "execution_count": 13,
     "metadata": {},
     "output_type": "execute_result"
    },
    {
     "data": {
      "image/png": "[encoded data removed]",
      "text/plain": [
       "<Figure size 864x576 with 1 Axes>"
      ]
     },
     "metadata": {
      "needs_background": "light"
     },
     "output_type": "display_data"
    }
   ],
   "source": [
    "plt.plot(x_lin, y_lin)\n",
    "plt.plot(x_lin, lr.predict(X_lin), label='Linear regression')\n",
    "plt.legend()"
   ]
  },
  {
   "cell_type": "code",
   "execution_count": 14,
   "metadata": {},
   "outputs": [
    {
     "data": {
      "text/plain": [
       "<matplotlib.legend.Legend at 0x149914a90>"
      ]
     },
     "execution_count": 14,
     "metadata": {},
     "output_type": "execute_result"
    },
    {
     "data": {
      "image/png": "[encoded data removed]",
      "text/plain": [
       "<Figure size 864x576 with 1 Axes>"
      ]
     },
     "metadata": {
      "needs_background": "light"
     },
     "output_type": "display_data"
    }
   ],
   "source": [
    "plt.plot(x_lin, y_lin)\n",
    "plt.plot(x_lin, rf.predict(X_lin), label='Random forest')\n",
    "plt.legend()\n",
    "# note now badly it will generalize if in the test set/production we have values outside this range!"
   ]
  },
  {
   "cell_type": "code",
   "execution_count": 15,
   "metadata": {},
   "outputs": [
    {
     "data": {
      "text/plain": [
       "(0.9970768537860165, 0.9981195188257079)"
      ]
     },
     "execution_count": 15,
     "metadata": {},
     "output_type": "execute_result"
    }
   ],
   "source": [
    "mnn_lin = MultipleRegression(3, 1)\n",
    "mnn_lin.fit(X_lin_train, y_lin_train, half_loss=0., num_epochs=5000)\n",
    "clear_output()\n",
    "score(mnn_lin.predict(X_lin_train), y_lin_train), score(mnn_lin.predict(X_lin_test), y_lin_test)"
   ]
  },
  {
   "cell_type": "code",
   "execution_count": 16,
   "metadata": {},
   "outputs": [
    {
     "data": {
      "text/plain": [
       "<matplotlib.legend.Legend at 0x149b21e50>"
      ]
     },
     "execution_count": 16,
     "metadata": {},
     "output_type": "execute_result"
    },
    {
     "data": {
      "image/png": "[encoded data removed]",
      "text/plain": [
       "<Figure size 864x576 with 1 Axes>"
      ]
     },
     "metadata": {
      "needs_background": "light"
     },
     "output_type": "display_data"
    }
   ],
   "source": [
    "plt.plot(x_lin, y_lin)\n",
    "plt.plot(x_lin, mnn_lin.predict(X_lin), label='Multi-regression')\n",
    "plt.legend()"
   ]
  },
  {
   "cell_type": "code",
   "execution_count": null,
   "metadata": {},
   "outputs": [],
   "source": []
  },
  {
   "cell_type": "code",
   "execution_count": 17,
   "metadata": {},
   "outputs": [],
   "source": [
    "s = mnn_lin.get_selector(X_lin)\n",
    "s = pd.DataFrame(s, index=X_lin.flatten())"
   ]
  },
  {
   "cell_type": "code",
   "execution_count": 18,
   "metadata": {
    "tags": []
   },
   "outputs": [
    {
     "data": {
      "text/html": [
       "<div>\n",
       "<style scoped>\n",
       "    .dataframe tbody tr th:only-of-type {\n",
       "        vertical-align: middle;\n",
       "    }\n",
       "\n",
       "    .dataframe tbody tr th {\n",
       "        vertical-align: top;\n",
       "    }\n",
       "\n",
       "    .dataframe thead th {\n",
       "        text-align: right;\n",
       "    }\n",
       "</style>\n",
       "<table border=\"1\" class=\"dataframe\">\n",
       "  <thead>\n",
       "    <tr style=\"text-align: right;\">\n",
       "      <th></th>\n",
       "      <th>0</th>\n",
       "      <th>1</th>\n",
       "      <th>2</th>\n",
       "    </tr>\n",
       "  </thead>\n",
       "  <tbody>\n",
       "    <tr>\n",
       "      <th>0.535354</th>\n",
       "      <td>0.008</td>\n",
       "      <td>0.979</td>\n",
       "      <td>0.013</td>\n",
       "    </tr>\n",
       "    <tr>\n",
       "      <th>0.858586</th>\n",
       "      <td>0.010</td>\n",
       "      <td>0.979</td>\n",
       "      <td>0.011</td>\n",
       "    </tr>\n",
       "    <tr>\n",
       "      <th>3.929293</th>\n",
       "      <td>0.114</td>\n",
       "      <td>0.884</td>\n",
       "      <td>0.001</td>\n",
       "    </tr>\n",
       "    <tr>\n",
       "      <th>4.737374</th>\n",
       "      <td>0.202</td>\n",
       "      <td>0.798</td>\n",
       "      <td>0.001</td>\n",
       "    </tr>\n",
       "    <tr>\n",
       "      <th>1.666667</th>\n",
       "      <td>0.019</td>\n",
       "      <td>0.974</td>\n",
       "      <td>0.006</td>\n",
       "    </tr>\n",
       "  </tbody>\n",
       "</table>\n",
       "</div>"
      ],
      "text/plain": [
       "              0      1      2\n",
       "0.535354  0.008  0.979  0.013\n",
       "0.858586  0.010  0.979  0.011\n",
       "3.929293  0.114  0.884  0.001\n",
       "4.737374  0.202  0.798  0.001\n",
       "1.666667  0.019  0.974  0.006"
      ]
     },
     "execution_count": 18,
     "metadata": {},
     "output_type": "execute_result"
    }
   ],
   "source": [
    "s.round(3).sample(5)"
   ]
  },
  {
   "cell_type": "code",
   "execution_count": 19,
   "metadata": {},
   "outputs": [],
   "source": [
    "reg_coefs = pd.Series(list(mnn_lin.regressions.parameters())[0].detach().numpy().flatten())\n",
    "reg_bias = pd.Series(list(mnn_lin.regressions.parameters())[1].detach().numpy().flatten())"
   ]
  },
  {
   "cell_type": "code",
   "execution_count": 20,
   "metadata": {},
   "outputs": [
    {
     "data": {
      "text/plain": [
       "0     6.392166\n",
       "1    -2.374437\n",
       "2   -10.837564\n",
       "dtype: float32"
      ]
     },
     "execution_count": 20,
     "metadata": {},
     "output_type": "execute_result"
    }
   ],
   "source": [
    "reg_coefs"
   ]
  },
  {
   "cell_type": "code",
   "execution_count": 21,
   "metadata": {},
   "outputs": [
    {
     "data": {
      "text/plain": [
       "0    -1.274446\n",
       "1     0.672359\n",
       "2   -16.720497\n",
       "dtype: float32"
      ]
     },
     "execution_count": 21,
     "metadata": {},
     "output_type": "execute_result"
    }
   ],
   "source": [
    "reg_bias"
   ]
  },
  {
   "cell_type": "code",
   "execution_count": 22,
   "metadata": {},
   "outputs": [
    {
     "data": {
      "text/plain": [
       "0    3.182429\n",
       "1   -0.607884\n",
       "2   -3.542745\n",
       "dtype: float32"
      ]
     },
     "execution_count": 22,
     "metadata": {},
     "output_type": "execute_result"
    }
   ],
   "source": [
    "# selector regression\n",
    "sel_coefs = pd.Series(list(mnn_lin.selector_regressions.parameters())[0].detach().numpy().flatten())\n",
    "sel_coefs"
   ]
  },
  {
   "cell_type": "code",
   "execution_count": 23,
   "metadata": {},
   "outputs": [
    {
     "data": {
      "text/html": [
       "<div>\n",
       "<style scoped>\n",
       "    .dataframe tbody tr th:only-of-type {\n",
       "        vertical-align: middle;\n",
       "    }\n",
       "\n",
       "    .dataframe tbody tr th {\n",
       "        vertical-align: top;\n",
       "    }\n",
       "\n",
       "    .dataframe thead th {\n",
       "        text-align: right;\n",
       "    }\n",
       "</style>\n",
       "<table border=\"1\" class=\"dataframe\">\n",
       "  <thead>\n",
       "    <tr style=\"text-align: right;\">\n",
       "      <th></th>\n",
       "      <th>Regressions coefs</th>\n",
       "      <th>Selectors coefs</th>\n",
       "    </tr>\n",
       "  </thead>\n",
       "  <tbody>\n",
       "    <tr>\n",
       "      <th>0</th>\n",
       "      <td>6.39</td>\n",
       "      <td>3.18</td>\n",
       "    </tr>\n",
       "    <tr>\n",
       "      <th>1</th>\n",
       "      <td>-2.37</td>\n",
       "      <td>-0.61</td>\n",
       "    </tr>\n",
       "    <tr>\n",
       "      <th>2</th>\n",
       "      <td>-10.84</td>\n",
       "      <td>-3.54</td>\n",
       "    </tr>\n",
       "  </tbody>\n",
       "</table>\n",
       "</div>"
      ],
      "text/plain": [
       "   Regressions coefs  Selectors coefs\n",
       "0               6.39             3.18\n",
       "1              -2.37            -0.61\n",
       "2             -10.84            -3.54"
      ]
     },
     "execution_count": 23,
     "metadata": {},
     "output_type": "execute_result"
    }
   ],
   "source": [
    "pd.DataFrame([reg_coefs,sel_coefs], index=['Regressions coefs', 'Selectors coefs']).T.round(2)"
   ]
  },
  {
   "cell_type": "code",
   "execution_count": null,
   "metadata": {},
   "outputs": [],
   "source": []
  },
  {
   "cell_type": "markdown",
   "metadata": {},
   "source": [
    "# Boston housing dataset"
   ]
  },
  {
   "cell_type": "code",
   "execution_count": 24,
   "metadata": {},
   "outputs": [],
   "source": [
    "from sklearn.datasets import load_boston\n",
    "boston = load_boston()"
   ]
  },
  {
   "cell_type": "code",
   "execution_count": 25,
   "metadata": {
    "scrolled": true,
    "tags": []
   },
   "outputs": [
    {
     "name": "stdout",
     "output_type": "stream",
     "text": [
      ".. _boston_dataset:\n",
      "\n",
      "Boston house prices dataset\n",
      "---------------------------\n",
      "\n",
      "**Data Set Characteristics:**  \n",
      "\n",
      "    :Number of Instances: 506 \n",
      "\n",
      "    :Number of Attributes: 13 numeric/categorical predictive. Median Value (attribute 14) is usually the target.\n",
      "\n",
      "    :Attribute Information (in order):\n",
      "        - CRIM     per capita crime rate by town\n",
      "        - ZN       proportion of residential land zoned for lots over 25,000 sq.ft.\n",
      "        - INDUS    proportion of non-retail business acres per town\n",
      "        - CHAS     Charles River dummy variable (= 1 if tract bounds river; 0 otherwise)\n",
      "        - NOX      nitric oxides concentration (parts per 10 million)\n",
      "        - RM       average number of rooms per dwelling\n",
      "        - AGE      proportion of owner-occupied units built prior to 1940\n",
      "        - DIS      weighted distances to five Boston employment centres\n",
      "        - RAD      index of accessibility to radial highways\n",
      "        - TAX      full-value property-tax rate per $10,000\n",
      "        - PTRATIO  pupil-teacher ratio by town\n",
      "        - B        1000(Bk - 0.63)^2 where Bk is the proportion of blacks by town\n",
      "        - LSTAT    % lower status of the population\n",
      "        - MEDV     Median value of owner-occupied homes in $1000's\n",
      "\n",
      "    :Missing Attribute Values: None\n",
      "\n",
      "    :Creator: Harrison, D. and Rubinfeld, D.L.\n",
      "\n",
      "This is a copy of UCI ML housing dataset.\n",
      "https://archive.ics.uci.edu/ml/machine-learning-databases/housing/\n",
      "\n",
      "\n",
      "This dataset was taken from the StatLib library which is maintained at Carnegie Mellon University.\n",
      "\n",
      "The Boston house-price data of Harrison, D. and Rubinfeld, D.L. 'Hedonic\n",
      "prices and the demand for clean air', J. Environ. Economics & Management,\n",
      "vol.5, 81-102, 1978.   Used in Belsley, Kuh & Welsch, 'Regression diagnostics\n",
      "...', Wiley, 1980.   N.B. Various transformations are used in the table on\n",
      "pages 244-261 of the latter.\n",
      "\n",
      "The Boston house-price data has been used in many machine learning papers that address regression\n",
      "problems.   \n",
      "     \n",
      ".. topic:: References\n",
      "\n",
      "   - Belsley, Kuh & Welsch, 'Regression diagnostics: Identifying Influential Data and Sources of Collinearity', Wiley, 1980. 244-261.\n",
      "   - Quinlan,R. (1993). Combining Instance-Based and Model-Based Learning. In Proceedings on the Tenth International Conference of Machine Learning, 236-243, University of Massachusetts, Amherst. Morgan Kaufmann.\n",
      "\n"
     ]
    }
   ],
   "source": [
    "print(boston['DESCR'])"
   ]
  },
  {
   "cell_type": "code",
   "execution_count": 26,
   "metadata": {},
   "outputs": [],
   "source": [
    "X_true = pd.DataFrame(boston['data'], columns=boston['feature_names'])\n",
    "X = (X_true - X_true.mean())/X_true.std()\n",
    "y = boston['target']"
   ]
  },
  {
   "cell_type": "code",
   "execution_count": 27,
   "metadata": {},
   "outputs": [],
   "source": [
    "test_X = X.sample(int(0.2*len(X)))\n",
    "train_X = X.drop(test_X.index)\n",
    "y_test = y[test_X.index]\n",
    "y_train = y[train_X.index]"
   ]
  },
  {
   "cell_type": "code",
   "execution_count": 28,
   "metadata": {},
   "outputs": [
    {
     "data": {
      "text/plain": [
       "(0.7286221116979998, 0.7841258877969095)"
      ]
     },
     "execution_count": 28,
     "metadata": {},
     "output_type": "execute_result"
    }
   ],
   "source": [
    "lr = LinearRegression()\n",
    "lr.fit(train_X, y_train)\n",
    "score(lr.predict(train_X), y_train), score(lr.predict(test_X), y_test)"
   ]
  },
  {
   "cell_type": "code",
   "execution_count": 29,
   "metadata": {},
   "outputs": [
    {
     "data": {
      "text/plain": [
       "(0.9798256800581223, 0.897487242275295)"
      ]
     },
     "execution_count": 29,
     "metadata": {},
     "output_type": "execute_result"
    }
   ],
   "source": [
    "rf = RandomForestRegressor()\n",
    "rf.fit(train_X, y_train)\n",
    "score(rf.predict(train_X), y_train), score(rf.predict(test_X), y_test)"
   ]
  },
  {
   "cell_type": "code",
   "execution_count": 30,
   "metadata": {
    "scrolled": true,
    "tags": []
   },
   "outputs": [
    {
     "data": {
      "text/plain": [
       "(0.9386670474389169, 0.8705241432035842)"
      ]
     },
     "execution_count": 30,
     "metadata": {},
     "output_type": "execute_result"
    }
   ],
   "source": [
    "# random initialization means that every run is a bit different\n",
    "# run multiple times and select the best network based on a validation set\n",
    "\n",
    "mnn = MultipleRegression(3, X.shape[1])\n",
    "mnn.fit(train_X, y_train, half_loss=0., num_epochs=2500)\n",
    "clear_output()\n",
    "\n",
    "score(mnn.predict(train_X), y_train), score(mnn.predict(test_X), y_test)\n",
    "# the fact that the train-test diff is smaller is important too - less overfit, more likely to work better on a slightly different test set/production\n",
    "# same as we've seen in rf in the polinomial example"
   ]
  },
  {
   "cell_type": "code",
   "execution_count": 32,
   "metadata": {},
   "outputs": [
    {
     "data": {
      "text/html": [
       "<div>\n",
       "<style scoped>\n",
       "    .dataframe tbody tr th:only-of-type {\n",
       "        vertical-align: middle;\n",
       "    }\n",
       "\n",
       "    .dataframe tbody tr th {\n",
       "        vertical-align: top;\n",
       "    }\n",
       "\n",
       "    .dataframe thead th {\n",
       "        text-align: right;\n",
       "    }\n",
       "</style>\n",
       "<table border=\"1\" class=\"dataframe\">\n",
       "  <thead>\n",
       "    <tr style=\"text-align: right;\">\n",
       "      <th></th>\n",
       "      <th>0</th>\n",
       "      <th>1</th>\n",
       "      <th>2</th>\n",
       "    </tr>\n",
       "  </thead>\n",
       "  <tbody>\n",
       "    <tr>\n",
       "      <th>0</th>\n",
       "      <td>0.000550</td>\n",
       "      <td>0.282195</td>\n",
       "      <td>0.717255</td>\n",
       "    </tr>\n",
       "    <tr>\n",
       "      <th>1</th>\n",
       "      <td>0.002976</td>\n",
       "      <td>0.188165</td>\n",
       "      <td>0.808859</td>\n",
       "    </tr>\n",
       "    <tr>\n",
       "      <th>2</th>\n",
       "      <td>0.017747</td>\n",
       "      <td>0.620463</td>\n",
       "      <td>0.361790</td>\n",
       "    </tr>\n",
       "    <tr>\n",
       "      <th>3</th>\n",
       "      <td>0.024420</td>\n",
       "      <td>0.615219</td>\n",
       "      <td>0.360361</td>\n",
       "    </tr>\n",
       "    <tr>\n",
       "      <th>4</th>\n",
       "      <td>0.018100</td>\n",
       "      <td>0.655034</td>\n",
       "      <td>0.326867</td>\n",
       "    </tr>\n",
       "    <tr>\n",
       "      <th>...</th>\n",
       "      <td>...</td>\n",
       "      <td>...</td>\n",
       "      <td>...</td>\n",
       "    </tr>\n",
       "    <tr>\n",
       "      <th>501</th>\n",
       "      <td>0.247805</td>\n",
       "      <td>0.245628</td>\n",
       "      <td>0.506566</td>\n",
       "    </tr>\n",
       "    <tr>\n",
       "      <th>502</th>\n",
       "      <td>0.161605</td>\n",
       "      <td>0.155866</td>\n",
       "      <td>0.682528</td>\n",
       "    </tr>\n",
       "    <tr>\n",
       "      <th>503</th>\n",
       "      <td>0.420950</td>\n",
       "      <td>0.448321</td>\n",
       "      <td>0.130729</td>\n",
       "    </tr>\n",
       "    <tr>\n",
       "      <th>504</th>\n",
       "      <td>0.370121</td>\n",
       "      <td>0.418567</td>\n",
       "      <td>0.211312</td>\n",
       "    </tr>\n",
       "    <tr>\n",
       "      <th>505</th>\n",
       "      <td>0.168432</td>\n",
       "      <td>0.168091</td>\n",
       "      <td>0.663477</td>\n",
       "    </tr>\n",
       "  </tbody>\n",
       "</table>\n",
       "<p>506 rows × 3 columns</p>\n",
       "</div>"
      ],
      "text/plain": [
       "            0         1         2\n",
       "0    0.000550  0.282195  0.717255\n",
       "1    0.002976  0.188165  0.808859\n",
       "2    0.017747  0.620463  0.361790\n",
       "3    0.024420  0.615219  0.360361\n",
       "4    0.018100  0.655034  0.326867\n",
       "..        ...       ...       ...\n",
       "501  0.247805  0.245628  0.506566\n",
       "502  0.161605  0.155866  0.682528\n",
       "503  0.420950  0.448321  0.130729\n",
       "504  0.370121  0.418567  0.211312\n",
       "505  0.168432  0.168091  0.663477\n",
       "\n",
       "[506 rows x 3 columns]"
      ]
     },
     "execution_count": 32,
     "metadata": {},
     "output_type": "execute_result"
    }
   ],
   "source": [
    "s = pd.DataFrame(mnn.get_selector(X))\n",
    "s"
   ]
  },
  {
   "cell_type": "code",
   "execution_count": null,
   "metadata": {},
   "outputs": [],
   "source": []
  },
  {
   "cell_type": "code",
   "execution_count": 33,
   "metadata": {},
   "outputs": [],
   "source": [
    "linear_models = pd.DataFrame(list(mnn.regressions.parameters())[0].detach().numpy(), columns=X.columns)\n",
    "linear_models['intercept'] = list(mnn.regressions.parameters())[1].detach().numpy()"
   ]
  },
  {
   "cell_type": "code",
   "execution_count": 34,
   "metadata": {},
   "outputs": [
    {
     "data": {
      "text/html": [
       "<div>\n",
       "<style scoped>\n",
       "    .dataframe tbody tr th:only-of-type {\n",
       "        vertical-align: middle;\n",
       "    }\n",
       "\n",
       "    .dataframe tbody tr th {\n",
       "        vertical-align: top;\n",
       "    }\n",
       "\n",
       "    .dataframe thead th {\n",
       "        text-align: right;\n",
       "    }\n",
       "</style>\n",
       "<table border=\"1\" class=\"dataframe\">\n",
       "  <thead>\n",
       "    <tr style=\"text-align: right;\">\n",
       "      <th></th>\n",
       "      <th>CRIM</th>\n",
       "      <th>ZN</th>\n",
       "      <th>INDUS</th>\n",
       "      <th>CHAS</th>\n",
       "      <th>NOX</th>\n",
       "      <th>RM</th>\n",
       "      <th>AGE</th>\n",
       "      <th>DIS</th>\n",
       "      <th>RAD</th>\n",
       "      <th>TAX</th>\n",
       "      <th>PTRATIO</th>\n",
       "      <th>B</th>\n",
       "      <th>LSTAT</th>\n",
       "      <th>intercept</th>\n",
       "    </tr>\n",
       "  </thead>\n",
       "  <tbody>\n",
       "    <tr>\n",
       "      <th>0</th>\n",
       "      <td>-0.44</td>\n",
       "      <td>1.21</td>\n",
       "      <td>-1.27</td>\n",
       "      <td>0.4</td>\n",
       "      <td>-0.75</td>\n",
       "      <td>-1.29</td>\n",
       "      <td>1.76</td>\n",
       "      <td>-1.05</td>\n",
       "      <td>-0.09</td>\n",
       "      <td>2.27</td>\n",
       "      <td>0.20</td>\n",
       "      <td>0.72</td>\n",
       "      <td>-0.87</td>\n",
       "      <td>-0.90</td>\n",
       "    </tr>\n",
       "    <tr>\n",
       "      <th>1</th>\n",
       "      <td>-0.00</td>\n",
       "      <td>-0.04</td>\n",
       "      <td>0.86</td>\n",
       "      <td>-0.1</td>\n",
       "      <td>0.13</td>\n",
       "      <td>0.62</td>\n",
       "      <td>-0.78</td>\n",
       "      <td>-0.07</td>\n",
       "      <td>-0.25</td>\n",
       "      <td>-1.03</td>\n",
       "      <td>-0.24</td>\n",
       "      <td>-0.22</td>\n",
       "      <td>-0.25</td>\n",
       "      <td>0.59</td>\n",
       "    </tr>\n",
       "    <tr>\n",
       "      <th>2</th>\n",
       "      <td>-0.11</td>\n",
       "      <td>-0.01</td>\n",
       "      <td>-0.06</td>\n",
       "      <td>-0.0</td>\n",
       "      <td>-0.25</td>\n",
       "      <td>0.02</td>\n",
       "      <td>-0.14</td>\n",
       "      <td>-0.35</td>\n",
       "      <td>0.36</td>\n",
       "      <td>-0.35</td>\n",
       "      <td>-0.22</td>\n",
       "      <td>0.01</td>\n",
       "      <td>-0.06</td>\n",
       "      <td>-0.40</td>\n",
       "    </tr>\n",
       "  </tbody>\n",
       "</table>\n",
       "</div>"
      ],
      "text/plain": [
       "   CRIM    ZN  INDUS  CHAS   NOX    RM   AGE   DIS   RAD   TAX  PTRATIO     B  \\\n",
       "0 -0.44  1.21  -1.27   0.4 -0.75 -1.29  1.76 -1.05 -0.09  2.27     0.20  0.72   \n",
       "1 -0.00 -0.04   0.86  -0.1  0.13  0.62 -0.78 -0.07 -0.25 -1.03    -0.24 -0.22   \n",
       "2 -0.11 -0.01  -0.06  -0.0 -0.25  0.02 -0.14 -0.35  0.36 -0.35    -0.22  0.01   \n",
       "\n",
       "   LSTAT  intercept  \n",
       "0  -0.87      -0.90  \n",
       "1  -0.25       0.59  \n",
       "2  -0.06      -0.40  "
      ]
     },
     "execution_count": 34,
     "metadata": {},
     "output_type": "execute_result"
    }
   ],
   "source": [
    "linear_models.round(2)"
   ]
  },
  {
   "cell_type": "code",
   "execution_count": 36,
   "metadata": {},
   "outputs": [
    {
     "data": {
      "text/html": [
       "<div>\n",
       "<style scoped>\n",
       "    .dataframe tbody tr th:only-of-type {\n",
       "        vertical-align: middle;\n",
       "    }\n",
       "\n",
       "    .dataframe tbody tr th {\n",
       "        vertical-align: top;\n",
       "    }\n",
       "\n",
       "    .dataframe thead th {\n",
       "        text-align: right;\n",
       "    }\n",
       "</style>\n",
       "<table border=\"1\" class=\"dataframe\">\n",
       "  <thead>\n",
       "    <tr style=\"text-align: right;\">\n",
       "      <th></th>\n",
       "      <th>CRIM</th>\n",
       "      <th>ZN</th>\n",
       "      <th>INDUS</th>\n",
       "      <th>CHAS</th>\n",
       "      <th>NOX</th>\n",
       "      <th>RM</th>\n",
       "      <th>AGE</th>\n",
       "      <th>DIS</th>\n",
       "      <th>RAD</th>\n",
       "      <th>TAX</th>\n",
       "      <th>PTRATIO</th>\n",
       "      <th>B</th>\n",
       "      <th>LSTAT</th>\n",
       "      <th>intercept</th>\n",
       "    </tr>\n",
       "  </thead>\n",
       "  <tbody>\n",
       "    <tr>\n",
       "      <th>0</th>\n",
       "      <td>-0.03</td>\n",
       "      <td>0.72</td>\n",
       "      <td>0.54</td>\n",
       "      <td>0.26</td>\n",
       "      <td>-0.07</td>\n",
       "      <td>0.49</td>\n",
       "      <td>-0.11</td>\n",
       "      <td>-0.31</td>\n",
       "      <td>0.56</td>\n",
       "      <td>-0.28</td>\n",
       "      <td>1.41</td>\n",
       "      <td>-0.22</td>\n",
       "      <td>-0.70</td>\n",
       "      <td>-0.90</td>\n",
       "    </tr>\n",
       "    <tr>\n",
       "      <th>1</th>\n",
       "      <td>0.11</td>\n",
       "      <td>0.09</td>\n",
       "      <td>-0.42</td>\n",
       "      <td>0.08</td>\n",
       "      <td>0.28</td>\n",
       "      <td>0.61</td>\n",
       "      <td>0.40</td>\n",
       "      <td>0.33</td>\n",
       "      <td>0.22</td>\n",
       "      <td>0.11</td>\n",
       "      <td>-0.57</td>\n",
       "      <td>0.08</td>\n",
       "      <td>-0.15</td>\n",
       "      <td>0.59</td>\n",
       "    </tr>\n",
       "    <tr>\n",
       "      <th>2</th>\n",
       "      <td>-0.32</td>\n",
       "      <td>-0.09</td>\n",
       "      <td>-0.07</td>\n",
       "      <td>-0.05</td>\n",
       "      <td>0.05</td>\n",
       "      <td>-0.91</td>\n",
       "      <td>-0.29</td>\n",
       "      <td>0.19</td>\n",
       "      <td>-0.95</td>\n",
       "      <td>-0.66</td>\n",
       "      <td>-1.15</td>\n",
       "      <td>-0.03</td>\n",
       "      <td>0.98</td>\n",
       "      <td>-0.40</td>\n",
       "    </tr>\n",
       "  </tbody>\n",
       "</table>\n",
       "</div>"
      ],
      "text/plain": [
       "   CRIM    ZN  INDUS  CHAS   NOX    RM   AGE   DIS   RAD   TAX  PTRATIO     B  \\\n",
       "0 -0.03  0.72   0.54  0.26 -0.07  0.49 -0.11 -0.31  0.56 -0.28     1.41 -0.22   \n",
       "1  0.11  0.09  -0.42  0.08  0.28  0.61  0.40  0.33  0.22  0.11    -0.57  0.08   \n",
       "2 -0.32 -0.09  -0.07 -0.05  0.05 -0.91 -0.29  0.19 -0.95 -0.66    -1.15 -0.03   \n",
       "\n",
       "   LSTAT  intercept  \n",
       "0  -0.70      -0.90  \n",
       "1  -0.15       0.59  \n",
       "2   0.98      -0.40  "
      ]
     },
     "execution_count": 36,
     "metadata": {},
     "output_type": "execute_result"
    }
   ],
   "source": [
    "selector_model = pd.DataFrame(list(mnn.selector_regressions.parameters())[0].detach().numpy(), columns = X.columns)\n",
    "selector_model['intercept'] = list(mnn.parameters())[1].detach().numpy()\n",
    "selector_model.round(2)"
   ]
  },
  {
   "cell_type": "code",
   "execution_count": 37,
   "metadata": {},
   "outputs": [],
   "source": [
    "good_indicators = ['RM', 'DIS', 'INDUS', 'RAD']\n",
    "good_indicators_map = {'RM': 'n_rooms', 'DIS': 'distance_to_center', 'INDUS': 'non_retail_business', 'CRIM': 'crime_rate', 'RAD': 'highway_access'}"
   ]
  },
  {
   "cell_type": "code",
   "execution_count": 38,
   "metadata": {},
   "outputs": [
    {
     "data": {
      "text/html": [
       "<div>\n",
       "<style scoped>\n",
       "    .dataframe tbody tr th:only-of-type {\n",
       "        vertical-align: middle;\n",
       "    }\n",
       "\n",
       "    .dataframe tbody tr th {\n",
       "        vertical-align: top;\n",
       "    }\n",
       "\n",
       "    .dataframe thead th {\n",
       "        text-align: right;\n",
       "    }\n",
       "</style>\n",
       "<table border=\"1\" class=\"dataframe\">\n",
       "  <thead>\n",
       "    <tr style=\"text-align: right;\">\n",
       "      <th></th>\n",
       "      <th>n_rooms</th>\n",
       "      <th>distance_to_center</th>\n",
       "      <th>non_retail_business</th>\n",
       "      <th>highway_access</th>\n",
       "    </tr>\n",
       "  </thead>\n",
       "  <tbody>\n",
       "    <tr>\n",
       "      <th>0</th>\n",
       "      <td>-1.29</td>\n",
       "      <td>-1.05</td>\n",
       "      <td>-1.27</td>\n",
       "      <td>-0.09</td>\n",
       "    </tr>\n",
       "    <tr>\n",
       "      <th>1</th>\n",
       "      <td>0.62</td>\n",
       "      <td>-0.07</td>\n",
       "      <td>0.86</td>\n",
       "      <td>-0.25</td>\n",
       "    </tr>\n",
       "    <tr>\n",
       "      <th>2</th>\n",
       "      <td>0.02</td>\n",
       "      <td>-0.35</td>\n",
       "      <td>-0.06</td>\n",
       "      <td>0.36</td>\n",
       "    </tr>\n",
       "  </tbody>\n",
       "</table>\n",
       "</div>"
      ],
      "text/plain": [
       "   n_rooms  distance_to_center  non_retail_business  highway_access\n",
       "0    -1.29               -1.05                -1.27           -0.09\n",
       "1     0.62               -0.07                 0.86           -0.25\n",
       "2     0.02               -0.35                -0.06            0.36"
      ]
     },
     "execution_count": 38,
     "metadata": {},
     "output_type": "execute_result"
    }
   ],
   "source": [
    "linear_models[good_indicators].rename(good_indicators_map, axis=1).round(2)"
   ]
  },
  {
   "cell_type": "code",
   "execution_count": 39,
   "metadata": {},
   "outputs": [
    {
     "data": {
      "text/html": [
       "<div>\n",
       "<style scoped>\n",
       "    .dataframe tbody tr th:only-of-type {\n",
       "        vertical-align: middle;\n",
       "    }\n",
       "\n",
       "    .dataframe tbody tr th {\n",
       "        vertical-align: top;\n",
       "    }\n",
       "\n",
       "    .dataframe thead th {\n",
       "        text-align: right;\n",
       "    }\n",
       "</style>\n",
       "<table border=\"1\" class=\"dataframe\">\n",
       "  <thead>\n",
       "    <tr style=\"text-align: right;\">\n",
       "      <th></th>\n",
       "      <th>n_rooms</th>\n",
       "      <th>distance_to_center</th>\n",
       "      <th>non_retail_business</th>\n",
       "      <th>highway_access</th>\n",
       "    </tr>\n",
       "  </thead>\n",
       "  <tbody>\n",
       "    <tr>\n",
       "      <th>0</th>\n",
       "      <td>0.49</td>\n",
       "      <td>-0.31</td>\n",
       "      <td>0.54</td>\n",
       "      <td>0.56</td>\n",
       "    </tr>\n",
       "    <tr>\n",
       "      <th>1</th>\n",
       "      <td>0.61</td>\n",
       "      <td>0.33</td>\n",
       "      <td>-0.42</td>\n",
       "      <td>0.22</td>\n",
       "    </tr>\n",
       "    <tr>\n",
       "      <th>2</th>\n",
       "      <td>-0.91</td>\n",
       "      <td>0.19</td>\n",
       "      <td>-0.07</td>\n",
       "      <td>-0.95</td>\n",
       "    </tr>\n",
       "  </tbody>\n",
       "</table>\n",
       "</div>"
      ],
      "text/plain": [
       "   n_rooms  distance_to_center  non_retail_business  highway_access\n",
       "0     0.49               -0.31                 0.54            0.56\n",
       "1     0.61                0.33                -0.42            0.22\n",
       "2    -0.91                0.19                -0.07           -0.95"
      ]
     },
     "execution_count": 39,
     "metadata": {},
     "output_type": "execute_result"
    }
   ],
   "source": [
    "selector_model[good_indicators].rename(good_indicators_map, axis=1).round(2)"
   ]
  },
  {
   "cell_type": "code",
   "execution_count": null,
   "metadata": {},
   "outputs": [],
   "source": [
    "- RAD      index of accessibility to radial highways\n",
    "- RM       average number of rooms per dwelling\n",
    "- DIS      weighted distances to five Boston employment centres\n",
    "- CRIM     per capita crime rate by town\n",
    "- INDUS    proportion of non-retail business acres per town"
   ]
  },
  {
   "cell_type": "code",
   "execution_count": null,
   "metadata": {},
   "outputs": [],
   "source": []
  },
  {
   "cell_type": "code",
   "execution_count": 40,
   "metadata": {},
   "outputs": [
    {
     "data": {
      "text/html": [
       "<div>\n",
       "<style scoped>\n",
       "    .dataframe tbody tr th:only-of-type {\n",
       "        vertical-align: middle;\n",
       "    }\n",
       "\n",
       "    .dataframe tbody tr th {\n",
       "        vertical-align: top;\n",
       "    }\n",
       "\n",
       "    .dataframe thead th {\n",
       "        text-align: right;\n",
       "    }\n",
       "</style>\n",
       "<table border=\"1\" class=\"dataframe\">\n",
       "  <thead>\n",
       "    <tr style=\"text-align: right;\">\n",
       "      <th></th>\n",
       "      <th>n_rooms</th>\n",
       "      <th>distance_to_center</th>\n",
       "      <th>non_retail_business</th>\n",
       "      <th>highway_access</th>\n",
       "    </tr>\n",
       "  </thead>\n",
       "  <tbody>\n",
       "    <tr>\n",
       "      <th>426</th>\n",
       "      <td>-0.64</td>\n",
       "      <td>-0.85</td>\n",
       "      <td>1.01</td>\n",
       "      <td>1.66</td>\n",
       "    </tr>\n",
       "    <tr>\n",
       "      <th>372</th>\n",
       "      <td>-0.58</td>\n",
       "      <td>-1.27</td>\n",
       "      <td>1.01</td>\n",
       "      <td>1.66</td>\n",
       "    </tr>\n",
       "    <tr>\n",
       "      <th>369</th>\n",
       "      <td>0.57</td>\n",
       "      <td>-1.16</td>\n",
       "      <td>1.01</td>\n",
       "      <td>1.66</td>\n",
       "    </tr>\n",
       "    <tr>\n",
       "      <th>432</th>\n",
       "      <td>0.20</td>\n",
       "      <td>-0.76</td>\n",
       "      <td>1.01</td>\n",
       "      <td>1.66</td>\n",
       "    </tr>\n",
       "  </tbody>\n",
       "</table>\n",
       "</div>"
      ],
      "text/plain": [
       "     n_rooms  distance_to_center  non_retail_business  highway_access\n",
       "426    -0.64               -0.85                 1.01            1.66\n",
       "372    -0.58               -1.27                 1.01            1.66\n",
       "369     0.57               -1.16                 1.01            1.66\n",
       "432     0.20               -0.76                 1.01            1.66"
      ]
     },
     "metadata": {},
     "output_type": "display_data"
    },
    {
     "data": {
      "text/html": [
       "<div>\n",
       "<style scoped>\n",
       "    .dataframe tbody tr th:only-of-type {\n",
       "        vertical-align: middle;\n",
       "    }\n",
       "\n",
       "    .dataframe tbody tr th {\n",
       "        vertical-align: top;\n",
       "    }\n",
       "\n",
       "    .dataframe thead th {\n",
       "        text-align: right;\n",
       "    }\n",
       "</style>\n",
       "<table border=\"1\" class=\"dataframe\">\n",
       "  <thead>\n",
       "    <tr style=\"text-align: right;\">\n",
       "      <th></th>\n",
       "      <th>n_rooms</th>\n",
       "      <th>distance_to_center</th>\n",
       "      <th>non_retail_business</th>\n",
       "      <th>highway_access</th>\n",
       "    </tr>\n",
       "  </thead>\n",
       "  <tbody>\n",
       "    <tr>\n",
       "      <th>182</th>\n",
       "      <td>1.24</td>\n",
       "      <td>-0.52</td>\n",
       "      <td>-1.26</td>\n",
       "      <td>-0.75</td>\n",
       "    </tr>\n",
       "    <tr>\n",
       "      <th>273</th>\n",
       "      <td>2.00</td>\n",
       "      <td>0.27</td>\n",
       "      <td>-0.61</td>\n",
       "      <td>-0.75</td>\n",
       "    </tr>\n",
       "    <tr>\n",
       "      <th>225</th>\n",
       "      <td>3.47</td>\n",
       "      <td>-0.43</td>\n",
       "      <td>-0.72</td>\n",
       "      <td>-0.18</td>\n",
       "    </tr>\n",
       "    <tr>\n",
       "      <th>390</th>\n",
       "      <td>-0.81</td>\n",
       "      <td>-0.89</td>\n",
       "      <td>1.01</td>\n",
       "      <td>1.66</td>\n",
       "    </tr>\n",
       "  </tbody>\n",
       "</table>\n",
       "</div>"
      ],
      "text/plain": [
       "     n_rooms  distance_to_center  non_retail_business  highway_access\n",
       "182     1.24               -0.52                -1.26           -0.75\n",
       "273     2.00                0.27                -0.61           -0.75\n",
       "225     3.47               -0.43                -0.72           -0.18\n",
       "390    -0.81               -0.89                 1.01            1.66"
      ]
     },
     "metadata": {},
     "output_type": "display_data"
    },
    {
     "data": {
      "text/html": [
       "<div>\n",
       "<style scoped>\n",
       "    .dataframe tbody tr th:only-of-type {\n",
       "        vertical-align: middle;\n",
       "    }\n",
       "\n",
       "    .dataframe tbody tr th {\n",
       "        vertical-align: top;\n",
       "    }\n",
       "\n",
       "    .dataframe thead th {\n",
       "        text-align: right;\n",
       "    }\n",
       "</style>\n",
       "<table border=\"1\" class=\"dataframe\">\n",
       "  <thead>\n",
       "    <tr style=\"text-align: right;\">\n",
       "      <th></th>\n",
       "      <th>n_rooms</th>\n",
       "      <th>distance_to_center</th>\n",
       "      <th>non_retail_business</th>\n",
       "      <th>highway_access</th>\n",
       "    </tr>\n",
       "  </thead>\n",
       "  <tbody>\n",
       "    <tr>\n",
       "      <th>168</th>\n",
       "      <td>0.05</td>\n",
       "      <td>-0.80</td>\n",
       "      <td>1.23</td>\n",
       "      <td>-0.52</td>\n",
       "    </tr>\n",
       "    <tr>\n",
       "      <th>502</th>\n",
       "      <td>-0.23</td>\n",
       "      <td>-0.72</td>\n",
       "      <td>0.12</td>\n",
       "      <td>-0.98</td>\n",
       "    </tr>\n",
       "    <tr>\n",
       "      <th>188</th>\n",
       "      <td>0.39</td>\n",
       "      <td>0.37</td>\n",
       "      <td>-1.12</td>\n",
       "      <td>-0.52</td>\n",
       "    </tr>\n",
       "    <tr>\n",
       "      <th>201</th>\n",
       "      <td>-0.17</td>\n",
       "      <td>1.18</td>\n",
       "      <td>-1.33</td>\n",
       "      <td>-0.87</td>\n",
       "    </tr>\n",
       "  </tbody>\n",
       "</table>\n",
       "</div>"
      ],
      "text/plain": [
       "     n_rooms  distance_to_center  non_retail_business  highway_access\n",
       "168     0.05               -0.80                 1.23           -0.52\n",
       "502    -0.23               -0.72                 0.12           -0.98\n",
       "188     0.39                0.37                -1.12           -0.52\n",
       "201    -0.17                1.18                -1.33           -0.87"
      ]
     },
     "metadata": {},
     "output_type": "display_data"
    }
   ],
   "source": [
    "js = []\n",
    "for i in range(3):\n",
    "    idx = s[s[i] > 0.6].index\n",
    "    j = X.loc[idx][good_indicators].rename(good_indicators_map, axis=1).round(2)\n",
    "    display(j.sample(4))\n",
    "    js.append(j)"
   ]
  },
  {
   "cell_type": "code",
   "execution_count": null,
   "metadata": {},
   "outputs": [],
   "source": []
  },
  {
   "cell_type": "code",
   "execution_count": 43,
   "metadata": {},
   "outputs": [],
   "source": [
    "linear_reg_per_item = pd.DataFrame(np.matmul(s.values, linear_models.drop('intercept', axis=1).values), columns=X.columns)"
   ]
  },
  {
   "cell_type": "code",
   "execution_count": 44,
   "metadata": {
    "scrolled": true,
    "tags": []
   },
   "outputs": [
    {
     "data": {
      "text/html": [
       "<div>\n",
       "<style scoped>\n",
       "    .dataframe tbody tr th:only-of-type {\n",
       "        vertical-align: middle;\n",
       "    }\n",
       "\n",
       "    .dataframe tbody tr th {\n",
       "        vertical-align: top;\n",
       "    }\n",
       "\n",
       "    .dataframe thead th {\n",
       "        text-align: right;\n",
       "    }\n",
       "</style>\n",
       "<table border=\"1\" class=\"dataframe\">\n",
       "  <thead>\n",
       "    <tr style=\"text-align: right;\">\n",
       "      <th></th>\n",
       "      <th>CRIM</th>\n",
       "      <th>ZN</th>\n",
       "      <th>INDUS</th>\n",
       "      <th>CHAS</th>\n",
       "      <th>NOX</th>\n",
       "      <th>RM</th>\n",
       "      <th>AGE</th>\n",
       "      <th>DIS</th>\n",
       "      <th>RAD</th>\n",
       "      <th>TAX</th>\n",
       "      <th>PTRATIO</th>\n",
       "      <th>B</th>\n",
       "      <th>LSTAT</th>\n",
       "    </tr>\n",
       "  </thead>\n",
       "  <tbody>\n",
       "    <tr>\n",
       "      <th>0</th>\n",
       "      <td>-0.078009</td>\n",
       "      <td>-0.016098</td>\n",
       "      <td>0.199663</td>\n",
       "      <td>-0.031717</td>\n",
       "      <td>-0.144614</td>\n",
       "      <td>0.190765</td>\n",
       "      <td>-0.317714</td>\n",
       "      <td>-0.273391</td>\n",
       "      <td>0.188823</td>\n",
       "      <td>-0.536860</td>\n",
       "      <td>-0.222987</td>\n",
       "      <td>-0.055349</td>\n",
       "      <td>-0.114702</td>\n",
       "    </tr>\n",
       "    <tr>\n",
       "      <th>1</th>\n",
       "      <td>-0.088682</td>\n",
       "      <td>-0.010671</td>\n",
       "      <td>0.110820</td>\n",
       "      <td>-0.021216</td>\n",
       "      <td>-0.182285</td>\n",
       "      <td>0.131434</td>\n",
       "      <td>-0.252103</td>\n",
       "      <td>-0.301282</td>\n",
       "      <td>0.245608</td>\n",
       "      <td>-0.466239</td>\n",
       "      <td>-0.220239</td>\n",
       "      <td>-0.031776</td>\n",
       "      <td>-0.098736</td>\n",
       "    </tr>\n",
       "    <tr>\n",
       "      <th>2</th>\n",
       "      <td>-0.048204</td>\n",
       "      <td>-0.004109</td>\n",
       "      <td>0.487878</td>\n",
       "      <td>-0.059101</td>\n",
       "      <td>-0.021964</td>\n",
       "      <td>0.370091</td>\n",
       "      <td>-0.504522</td>\n",
       "      <td>-0.191094</td>\n",
       "      <td>-0.027302</td>\n",
       "      <td>-0.723160</td>\n",
       "      <td>-0.222127</td>\n",
       "      <td>-0.121711</td>\n",
       "      <td>-0.193161</td>\n",
       "    </tr>\n",
       "    <tr>\n",
       "      <th>3</th>\n",
       "      <td>-0.050966</td>\n",
       "      <td>0.004142</td>\n",
       "      <td>0.475004</td>\n",
       "      <td>-0.055894</td>\n",
       "      <td>-0.027311</td>\n",
       "      <td>0.358177</td>\n",
       "      <td>-0.488446</td>\n",
       "      <td>-0.197200</td>\n",
       "      <td>-0.027123</td>\n",
       "      <td>-0.702132</td>\n",
       "      <td>-0.219264</td>\n",
       "      <td>-0.115745</td>\n",
       "      <td>-0.197573</td>\n",
       "    </tr>\n",
       "    <tr>\n",
       "      <th>4</th>\n",
       "      <td>-0.044692</td>\n",
       "      <td>-0.004591</td>\n",
       "      <td>0.519034</td>\n",
       "      <td>-0.062463</td>\n",
       "      <td>-0.008732</td>\n",
       "      <td>0.390266</td>\n",
       "      <td>-0.526281</td>\n",
       "      <td>-0.181706</td>\n",
       "      <td>-0.048748</td>\n",
       "      <td>-0.745871</td>\n",
       "      <td>-0.222622</td>\n",
       "      <td>-0.129492</td>\n",
       "      <td>-0.200040</td>\n",
       "    </tr>\n",
       "    <tr>\n",
       "      <th>...</th>\n",
       "      <td>...</td>\n",
       "      <td>...</td>\n",
       "      <td>...</td>\n",
       "      <td>...</td>\n",
       "      <td>...</td>\n",
       "      <td>...</td>\n",
       "      <td>...</td>\n",
       "      <td>...</td>\n",
       "      <td>...</td>\n",
       "      <td>...</td>\n",
       "      <td>...</td>\n",
       "      <td>...</td>\n",
       "      <td>...</td>\n",
       "    </tr>\n",
       "    <tr>\n",
       "      <th>501</th>\n",
       "      <td>-0.163784</td>\n",
       "      <td>0.285460</td>\n",
       "      <td>-0.133195</td>\n",
       "      <td>0.071134</td>\n",
       "      <td>-0.281548</td>\n",
       "      <td>-0.156477</td>\n",
       "      <td>0.175548</td>\n",
       "      <td>-0.455637</td>\n",
       "      <td>0.098351</td>\n",
       "      <td>0.134415</td>\n",
       "      <td>-0.119816</td>\n",
       "      <td>0.129028</td>\n",
       "      <td>-0.308246</td>\n",
       "    </tr>\n",
       "    <tr>\n",
       "      <th>502</th>\n",
       "      <td>-0.144640</td>\n",
       "      <td>0.183031</td>\n",
       "      <td>-0.110805</td>\n",
       "      <td>0.045665</td>\n",
       "      <td>-0.273564</td>\n",
       "      <td>-0.096621</td>\n",
       "      <td>0.070090</td>\n",
       "      <td>-0.420667</td>\n",
       "      <td>0.193007</td>\n",
       "      <td>-0.029531</td>\n",
       "      <td>-0.153884</td>\n",
       "      <td>0.088567</td>\n",
       "      <td>-0.221221</td>\n",
       "    </tr>\n",
       "    <tr>\n",
       "      <th>503</th>\n",
       "      <td>-0.199888</td>\n",
       "      <td>0.490614</td>\n",
       "      <td>-0.157711</td>\n",
       "      <td>0.120022</td>\n",
       "      <td>-0.288900</td>\n",
       "      <td>-0.263338</td>\n",
       "      <td>0.372846</td>\n",
       "      <td>-0.519639</td>\n",
       "      <td>-0.105564</td>\n",
       "      <td>0.448417</td>\n",
       "      <td>-0.051799</td>\n",
       "      <td>0.205097</td>\n",
       "      <td>-0.487319</td>\n",
       "    </tr>\n",
       "    <tr>\n",
       "      <th>504</th>\n",
       "      <td>-0.186166</td>\n",
       "      <td>0.429604</td>\n",
       "      <td>-0.123335</td>\n",
       "      <td>0.102655</td>\n",
       "      <td>-0.275204</td>\n",
       "      <td>-0.214205</td>\n",
       "      <td>0.295624</td>\n",
       "      <td>-0.492559</td>\n",
       "      <td>-0.064018</td>\n",
       "      <td>0.335899</td>\n",
       "      <td>-0.072318</td>\n",
       "      <td>0.175853</td>\n",
       "      <td>-0.440423</td>\n",
       "    </tr>\n",
       "    <tr>\n",
       "      <th>505</th>\n",
       "      <td>-0.145619</td>\n",
       "      <td>0.191008</td>\n",
       "      <td>-0.107903</td>\n",
       "      <td>0.047163</td>\n",
       "      <td>-0.272212</td>\n",
       "      <td>-0.098306</td>\n",
       "      <td>0.075122</td>\n",
       "      <td>-0.422010</td>\n",
       "      <td>0.182360</td>\n",
       "      <td>-0.020046</td>\n",
       "      <td>-0.151281</td>\n",
       "      <td>0.090582</td>\n",
       "      <td>-0.229088</td>\n",
       "    </tr>\n",
       "  </tbody>\n",
       "</table>\n",
       "<p>506 rows × 13 columns</p>\n",
       "</div>"
      ],
      "text/plain": [
       "         CRIM        ZN     INDUS      CHAS       NOX        RM       AGE  \\\n",
       "0   -0.078009 -0.016098  0.199663 -0.031717 -0.144614  0.190765 -0.317714   \n",
       "1   -0.088682 -0.010671  0.110820 -0.021216 -0.182285  0.131434 -0.252103   \n",
       "2   -0.048204 -0.004109  0.487878 -0.059101 -0.021964  0.370091 -0.504522   \n",
       "3   -0.050966  0.004142  0.475004 -0.055894 -0.027311  0.358177 -0.488446   \n",
       "4   -0.044692 -0.004591  0.519034 -0.062463 -0.008732  0.390266 -0.526281   \n",
       "..        ...       ...       ...       ...       ...       ...       ...   \n",
       "501 -0.163784  0.285460 -0.133195  0.071134 -0.281548 -0.156477  0.175548   \n",
       "502 -0.144640  0.183031 -0.110805  0.045665 -0.273564 -0.096621  0.070090   \n",
       "503 -0.199888  0.490614 -0.157711  0.120022 -0.288900 -0.263338  0.372846   \n",
       "504 -0.186166  0.429604 -0.123335  0.102655 -0.275204 -0.214205  0.295624   \n",
       "505 -0.145619  0.191008 -0.107903  0.047163 -0.272212 -0.098306  0.075122   \n",
       "\n",
       "          DIS       RAD       TAX   PTRATIO         B     LSTAT  \n",
       "0   -0.273391  0.188823 -0.536860 -0.222987 -0.055349 -0.114702  \n",
       "1   -0.301282  0.245608 -0.466239 -0.220239 -0.031776 -0.098736  \n",
       "2   -0.191094 -0.027302 -0.723160 -0.222127 -0.121711 -0.193161  \n",
       "3   -0.197200 -0.027123 -0.702132 -0.219264 -0.115745 -0.197573  \n",
       "4   -0.181706 -0.048748 -0.745871 -0.222622 -0.129492 -0.200040  \n",
       "..        ...       ...       ...       ...       ...       ...  \n",
       "501 -0.455637  0.098351  0.134415 -0.119816  0.129028 -0.308246  \n",
       "502 -0.420667  0.193007 -0.029531 -0.153884  0.088567 -0.221221  \n",
       "503 -0.519639 -0.105564  0.448417 -0.051799  0.205097 -0.487319  \n",
       "504 -0.492559 -0.064018  0.335899 -0.072318  0.175853 -0.440423  \n",
       "505 -0.422010  0.182360 -0.020046 -0.151281  0.090582 -0.229088  \n",
       "\n",
       "[506 rows x 13 columns]"
      ]
     },
     "execution_count": 44,
     "metadata": {},
     "output_type": "execute_result"
    }
   ],
   "source": [
    "# the actual linear regression used for each item in the dataset, after the selector selected the right params...\n",
    "linear_reg_per_item"
   ]
  },
  {
   "cell_type": "code",
   "execution_count": null,
   "metadata": {},
   "outputs": [],
   "source": []
  },
  {
   "cell_type": "code",
   "execution_count": null,
   "metadata": {},
   "outputs": [],
   "source": []
  }
 ],
 "metadata": {
  "kernelspec": {
   "display_name": "Python 3",
   "language": "python",
   "name": "python3"
  },
  "language_info": {
   "codemirror_mode": {
    "name": "ipython",
    "version": 3
   },
   "file_extension": ".py",
   "mimetype": "text/x-python",
   "name": "python",
   "nbconvert_exporter": "python",
   "pygments_lexer": "ipython3",
   "version": "3.8.0"
  }
 },
 "nbformat": 4,
 "nbformat_minor": 4
}
